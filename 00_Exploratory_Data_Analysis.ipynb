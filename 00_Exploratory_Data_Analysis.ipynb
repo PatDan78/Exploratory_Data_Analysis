{
 "cells": [
  {
   "cell_type": "markdown",
   "metadata": {},
   "source": [
    "# Le plus grand nombre"
   ]
  },
  {
   "cell_type": "markdown",
   "metadata": {},
   "source": [
    "* Ce jeu de dés est facile et amusant. Vous pouvez jouer avec deux dés, ou jusqu’à six.\n",
    "* À chaque tour, les joueurs lancent leurs dés et doivent créer le plus grand nombre à partir des chiffres obtenus.\n",
    "* Cela signifie que si vous obtenez un 5 et un 6, votre nombre le plus élevé est 65.\n",
    "* Si vous jouez avec quatre dés et que vous lancez un 6, 2, 4, 5, votre nombre le plus élevé serait 6 542. Le joueur avec le plus grand nombre à chaque tour gagne !\n"
   ]
  },
  {
   "cell_type": "code",
   "execution_count": 1,
   "metadata": {},
   "outputs": [
    {
     "name": "stdout",
     "output_type": "stream",
     "text": [
      "Jeu avec 2 joueurs, 2 dés et jusqu'à 3 lancers :\n",
      "Joueur 1 : 65\n",
      "Joueur 2 : 65\n",
      "\n",
      "Le joueur 1 remporte ce tour avec le nombre le plus élevé : 65\n"
     ]
    }
   ],
   "source": [
    "import random\n",
    "\n",
    "def lancer_des(nb_des):\n",
    "    des = [str(random.randint(1, 6)) for _ in range(nb_des)]\n",
    "    return ''.join(sorted(des, reverse=True))\n",
    "\n",
    "def jouer_jeu(nb_joueurs, nb_des, max_lancers):\n",
    "    scores = {}\n",
    "    for joueur in range(1, nb_joueurs + 1):\n",
    "        meilleur_score = \"0\"\n",
    "        for _ in range(max_lancers):\n",
    "            score_actuel = lancer_des(nb_des)\n",
    "            if score_actuel > meilleur_score:\n",
    "                meilleur_score = score_actuel\n",
    "        scores[joueur] = meilleur_score\n",
    "        print(f\"Joueur {joueur} : {meilleur_score}\")\n",
    "    gagnant = max(scores, key=scores.get)\n",
    "    print(f\"\\nLe joueur {gagnant} remporte ce tour avec le nombre le plus élevé : {scores[gagnant]}\")\n",
    "\n",
    "# Nombre de joueurs, de dés et de lancers maximum\n",
    "nb_joueurs = 2\n",
    "nb_des = 2\n",
    "max_lancers = 3\n",
    "\n",
    "# Jouer le jeu\n",
    "print(f\"Jeu avec {nb_joueurs} joueurs, {nb_des} dés et jusqu'à {max_lancers} lancers :\")\n",
    "jouer_jeu(nb_joueurs, nb_des, max_lancers)\n"
   ]
  },
  {
   "cell_type": "code",
   "execution_count": null,
   "metadata": {},
   "outputs": [],
   "source": []
  },
  {
   "cell_type": "code",
   "execution_count": null,
   "metadata": {},
   "outputs": [],
   "source": []
  }
 ],
 "metadata": {
  "kernelspec": {
   "display_name": "base",
   "language": "python",
   "name": "python3"
  },
  "language_info": {
   "codemirror_mode": {
    "name": "ipython",
    "version": 3
   },
   "file_extension": ".py",
   "mimetype": "text/x-python",
   "name": "python",
   "nbconvert_exporter": "python",
   "pygments_lexer": "ipython3",
   "version": "3.11.5"
  }
 },
 "nbformat": 4,
 "nbformat_minor": 2
}

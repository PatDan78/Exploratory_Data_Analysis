{
 "cells": [
  {
   "cell_type": "code",
   "execution_count": 1,
   "metadata": {},
   "outputs": [
    {
     "name": "stdout",
     "output_type": "stream",
     "text": [
      "^C\n",
      "Note: you may need to restart the kernel to use updated packages.\n"
     ]
    },
    {
     "name": "stdout",
     "output_type": "stream",
     "text": [
      "Collecting plotly==4.9.0\n",
      "  Downloading plotly-4.9.0-py2.py3-none-any.whl (12.9 MB)\n",
      "     ---------------------------------------- 0.0/12.9 MB ? eta -:--:--\n",
      "     ---------------------------------------- 0.0/12.9 MB ? eta -:--:--\n",
      "     --------------------------------------- 0.0/12.9 MB 435.7 kB/s eta 0:00:30\n",
      "     ---------------------------------------- 0.1/12.9 MB 1.1 MB/s eta 0:00:13\n",
      "     - -------------------------------------- 0.4/12.9 MB 3.1 MB/s eta 0:00:05\n",
      "     -- ------------------------------------- 0.7/12.9 MB 4.0 MB/s eta 0:00:04\n",
      "     -- ------------------------------------- 0.9/12.9 MB 4.3 MB/s eta 0:00:03\n",
      "     --- ------------------------------------ 1.1/12.9 MB 4.2 MB/s eta 0:00:03\n",
      "     ---- ----------------------------------- 1.3/12.9 MB 4.1 MB/s eta 0:00:03\n",
      "     ---- ----------------------------------- 1.5/12.9 MB 3.9 MB/s eta 0:00:03\n",
      "     ----- ---------------------------------- 1.7/12.9 MB 4.1 MB/s eta 0:00:03\n",
      "     ----- ---------------------------------- 1.8/12.9 MB 4.0 MB/s eta 0:00:03\n",
      "     ------ --------------------------------- 2.1/12.9 MB 4.1 MB/s eta 0:00:03\n",
      "     ------- -------------------------------- 2.3/12.9 MB 4.2 MB/s eta 0:00:03\n",
      "     ------- -------------------------------- 2.5/12.9 MB 4.2 MB/s eta 0:00:03\n",
      "     -------- ------------------------------- 2.7/12.9 MB 4.2 MB/s eta 0:00:03\n",
      "     --------- ------------------------------ 2.9/12.9 MB 4.2 MB/s eta 0:00:03\n",
      "     --------- ------------------------------ 3.1/12.9 MB 4.3 MB/s eta 0:00:03\n",
      "     ---------- ----------------------------- 3.4/12.9 MB 4.4 MB/s eta 0:00:03\n",
      "     ----------- ---------------------------- 3.7/12.9 MB 4.5 MB/s eta 0:00:03\n",
      "     ------------ --------------------------- 3.9/12.9 MB 4.5 MB/s eta 0:00:02\n",
      "     ------------ --------------------------- 4.1/12.9 MB 4.5 MB/s eta 0:00:02\n",
      "     ------------- -------------------------- 4.4/12.9 MB 4.6 MB/s eta 0:00:02\n",
      "     -------------- ------------------------- 4.8/12.9 MB 4.7 MB/s eta 0:00:02\n",
      "     --------------- ------------------------ 5.1/12.9 MB 4.8 MB/s eta 0:00:02\n",
      "     ---------------- ----------------------- 5.4/12.9 MB 4.9 MB/s eta 0:00:02\n",
      "     ----------------- ---------------------- 5.8/12.9 MB 5.0 MB/s eta 0:00:02\n",
      "     ------------------ --------------------- 6.1/12.9 MB 5.1 MB/s eta 0:00:02\n",
      "     -------------------- ------------------- 6.5/12.9 MB 5.3 MB/s eta 0:00:02\n",
      "     --------------------- ------------------ 6.8/12.9 MB 5.3 MB/s eta 0:00:02\n",
      "     ---------------------- ----------------- 7.1/12.9 MB 5.3 MB/s eta 0:00:02\n",
      "     ----------------------- ---------------- 7.4/12.9 MB 5.4 MB/s eta 0:00:02\n",
      "     ------------------------ --------------- 7.9/12.9 MB 5.5 MB/s eta 0:00:01\n",
      "     -------------------------- ------------- 8.4/12.9 MB 5.7 MB/s eta 0:00:01\n",
      "     -------------------------- ------------- 8.7/12.9 MB 5.7 MB/s eta 0:00:01\n",
      "     ---------------------------- ----------- 9.1/12.9 MB 5.8 MB/s eta 0:00:01\n",
      "     ----------------------------- ---------- 9.5/12.9 MB 6.0 MB/s eta 0:00:01\n",
      "     ------------------------------ --------- 9.9/12.9 MB 6.0 MB/s eta 0:00:01\n",
      "     ------------------------------- -------- 10.3/12.9 MB 6.3 MB/s eta 0:00:01\n",
      "     --------------------------------- ------ 10.7/12.9 MB 6.4 MB/s eta 0:00:01\n",
      "     ---------------------------------- ----- 11.0/12.9 MB 6.4 MB/s eta 0:00:01\n",
      "     ---------------------------------- ----- 11.3/12.9 MB 6.4 MB/s eta 0:00:01\n",
      "     ----------------------------------- ---- 11.6/12.9 MB 6.5 MB/s eta 0:00:01\n",
      "     ------------------------------------ --- 11.8/12.9 MB 6.7 MB/s eta 0:00:01\n",
      "     ------------------------------------- -- 12.2/12.9 MB 6.8 MB/s eta 0:00:01\n",
      "     -------------------------------------- - 12.5/12.9 MB 6.9 MB/s eta 0:00:01\n",
      "     ---------------------------------------  12.9/12.9 MB 7.1 MB/s eta 0:00:01\n",
      "     ---------------------------------------  12.9/12.9 MB 7.1 MB/s eta 0:00:01\n",
      "     ---------------------------------------- 12.9/12.9 MB 6.7 MB/s eta 0:00:00\n",
      "Collecting retrying>=1.3.3 (from plotly==4.9.0)\n",
      "  Obtaining dependency information for retrying>=1.3.3 from https://files.pythonhosted.org/packages/8f/04/9e36f28be4c0532c0e9207ff9dc01fb13a2b0eb036476a213b0000837d0e/retrying-1.3.4-py3-none-any.whl.metadata\n",
      "  Downloading retrying-1.3.4-py3-none-any.whl.metadata (6.9 kB)\n",
      "Requirement already satisfied: six in c:\\users\\patri\\appdata\\local\\anaconda3\\lib\\site-packages (from plotly==4.9.0) (1.16.0)\n",
      "Downloading retrying-1.3.4-py3-none-any.whl (11 kB)\n",
      "Installing collected packages: retrying, plotly\n",
      "  Attempting uninstall: plotly\n",
      "    Found existing installation: plotly 5.9.0\n",
      "    Uninstalling plotly-5.9.0:\n",
      "      Successfully uninstalled plotly-5.9.0\n",
      "Successfully installed plotly-4.9.0 retrying-1.3.4\n"
     ]
    }
   ],
   "source": [
    "pip install plotly==4.9.0"
   ]
  },
  {
   "cell_type": "code",
   "execution_count": 2,
   "metadata": {},
   "outputs": [
    {
     "name": "stdout",
     "output_type": "stream",
     "text": [
      "Requirement already satisfied: jupyterlab in c:\\users\\patri\\appdata\\local\\anaconda3\\lib\\site-packages (3.6.3)\n",
      "Requirement already satisfied: ipywidgets>=7.5 in c:\\users\\patri\\appdata\\local\\anaconda3\\lib\\site-packages (8.0.4)\n",
      "Requirement already satisfied: ipython in c:\\users\\patri\\appdata\\local\\anaconda3\\lib\\site-packages (from jupyterlab) (8.15.0)\n",
      "Requirement already satisfied: packaging in c:\\users\\patri\\appdata\\local\\anaconda3\\lib\\site-packages (from jupyterlab) (23.1)\n",
      "Requirement already satisfied: tornado>=6.1.0 in c:\\users\\patri\\appdata\\local\\anaconda3\\lib\\site-packages (from jupyterlab) (6.3.2)\n",
      "Requirement already satisfied: jupyter-core in c:\\users\\patri\\appdata\\local\\anaconda3\\lib\\site-packages (from jupyterlab) (5.3.0)\n",
      "Requirement already satisfied: jupyterlab-server~=2.19 in c:\\users\\patri\\appdata\\local\\anaconda3\\lib\\site-packages (from jupyterlab) (2.22.0)\n",
      "Requirement already satisfied: jupyter-server<3,>=1.16.0 in c:\\users\\patri\\appdata\\local\\anaconda3\\lib\\site-packages (from jupyterlab) (1.23.4)\n",
      "Requirement already satisfied: jupyter-ydoc~=0.2.3 in c:\\users\\patri\\appdata\\local\\anaconda3\\lib\\site-packages (from jupyterlab) (0.2.4)\n",
      "Requirement already satisfied: jupyter-server-ydoc~=0.8.0 in c:\\users\\patri\\appdata\\local\\anaconda3\\lib\\site-packages (from jupyterlab) (0.8.0)\n",
      "Requirement already satisfied: nbclassic in c:\\users\\patri\\appdata\\local\\anaconda3\\lib\\site-packages (from jupyterlab) (0.5.5)\n",
      "Requirement already satisfied: notebook<7 in c:\\users\\patri\\appdata\\local\\anaconda3\\lib\\site-packages (from jupyterlab) (6.5.4)\n",
      "Requirement already satisfied: jinja2>=2.1 in c:\\users\\patri\\appdata\\local\\anaconda3\\lib\\site-packages (from jupyterlab) (3.1.2)\n",
      "Requirement already satisfied: ipykernel>=4.5.1 in c:\\users\\patri\\appdata\\local\\anaconda3\\lib\\site-packages (from ipywidgets>=7.5) (6.25.0)\n",
      "Requirement already satisfied: traitlets>=4.3.1 in c:\\users\\patri\\appdata\\local\\anaconda3\\lib\\site-packages (from ipywidgets>=7.5) (5.7.1)\n",
      "Requirement already satisfied: widgetsnbextension~=4.0 in c:\\users\\patri\\appdata\\local\\anaconda3\\lib\\site-packages (from ipywidgets>=7.5) (4.0.5)\n",
      "Requirement already satisfied: jupyterlab-widgets~=3.0 in c:\\users\\patri\\appdata\\local\\anaconda3\\lib\\site-packages (from ipywidgets>=7.5) (3.0.5)\n",
      "Requirement already satisfied: comm>=0.1.1 in c:\\users\\patri\\appdata\\local\\anaconda3\\lib\\site-packages (from ipykernel>=4.5.1->ipywidgets>=7.5) (0.1.2)\n",
      "Requirement already satisfied: debugpy>=1.6.5 in c:\\users\\patri\\appdata\\local\\anaconda3\\lib\\site-packages (from ipykernel>=4.5.1->ipywidgets>=7.5) (1.6.7)\n",
      "Requirement already satisfied: jupyter-client>=6.1.12 in c:\\users\\patri\\appdata\\local\\anaconda3\\lib\\site-packages (from ipykernel>=4.5.1->ipywidgets>=7.5) (7.4.9)\n",
      "Requirement already satisfied: matplotlib-inline>=0.1 in c:\\users\\patri\\appdata\\local\\anaconda3\\lib\\site-packages (from ipykernel>=4.5.1->ipywidgets>=7.5) (0.1.6)\n",
      "Requirement already satisfied: nest-asyncio in c:\\users\\patri\\appdata\\local\\anaconda3\\lib\\site-packages (from ipykernel>=4.5.1->ipywidgets>=7.5) (1.5.6)\n",
      "Requirement already satisfied: psutil in c:\\users\\patri\\appdata\\local\\anaconda3\\lib\\site-packages (from ipykernel>=4.5.1->ipywidgets>=7.5) (5.9.0)\n",
      "Requirement already satisfied: pyzmq>=20 in c:\\users\\patri\\appdata\\local\\anaconda3\\lib\\site-packages (from ipykernel>=4.5.1->ipywidgets>=7.5) (23.2.0)\n",
      "Requirement already satisfied: backcall in c:\\users\\patri\\appdata\\local\\anaconda3\\lib\\site-packages (from ipython->jupyterlab) (0.2.0)\n",
      "Requirement already satisfied: decorator in c:\\users\\patri\\appdata\\local\\anaconda3\\lib\\site-packages (from ipython->jupyterlab) (5.1.1)\n",
      "Requirement already satisfied: jedi>=0.16 in c:\\users\\patri\\appdata\\local\\anaconda3\\lib\\site-packages (from ipython->jupyterlab) (0.18.1)\n",
      "Requirement already satisfied: pickleshare in c:\\users\\patri\\appdata\\local\\anaconda3\\lib\\site-packages (from ipython->jupyterlab) (0.7.5)\n",
      "Requirement already satisfied: prompt-toolkit!=3.0.37,<3.1.0,>=3.0.30 in c:\\users\\patri\\appdata\\local\\anaconda3\\lib\\site-packages (from ipython->jupyterlab) (3.0.36)\n",
      "Requirement already satisfied: pygments>=2.4.0 in c:\\users\\patri\\appdata\\local\\anaconda3\\lib\\site-packages (from ipython->jupyterlab) (2.15.1)\n",
      "Requirement already satisfied: stack-data in c:\\users\\patri\\appdata\\local\\anaconda3\\lib\\site-packages (from ipython->jupyterlab) (0.2.0)\n",
      "Requirement already satisfied: colorama in c:\\users\\patri\\appdata\\local\\anaconda3\\lib\\site-packages (from ipython->jupyterlab) (0.4.6)\n",
      "Requirement already satisfied: MarkupSafe>=2.0 in c:\\users\\patri\\appdata\\local\\anaconda3\\lib\\site-packages (from jinja2>=2.1->jupyterlab) (2.1.1)\n",
      "Requirement already satisfied: platformdirs>=2.5 in c:\\users\\patri\\appdata\\local\\anaconda3\\lib\\site-packages (from jupyter-core->jupyterlab) (3.10.0)\n",
      "Requirement already satisfied: pywin32>=300 in c:\\users\\patri\\appdata\\local\\anaconda3\\lib\\site-packages (from jupyter-core->jupyterlab) (305.1)\n",
      "Requirement already satisfied: anyio<4,>=3.1.0 in c:\\users\\patri\\appdata\\local\\anaconda3\\lib\\site-packages (from jupyter-server<3,>=1.16.0->jupyterlab) (3.5.0)\n",
      "Requirement already satisfied: argon2-cffi in c:\\users\\patri\\appdata\\local\\anaconda3\\lib\\site-packages (from jupyter-server<3,>=1.16.0->jupyterlab) (21.3.0)\n",
      "Requirement already satisfied: nbconvert>=6.4.4 in c:\\users\\patri\\appdata\\local\\anaconda3\\lib\\site-packages (from jupyter-server<3,>=1.16.0->jupyterlab) (6.5.4)\n",
      "Requirement already satisfied: nbformat>=5.2.0 in c:\\users\\patri\\appdata\\local\\anaconda3\\lib\\site-packages (from jupyter-server<3,>=1.16.0->jupyterlab) (5.9.2)\n",
      "Requirement already satisfied: prometheus-client in c:\\users\\patri\\appdata\\local\\anaconda3\\lib\\site-packages (from jupyter-server<3,>=1.16.0->jupyterlab) (0.14.1)\n",
      "Requirement already satisfied: Send2Trash in c:\\users\\patri\\appdata\\local\\anaconda3\\lib\\site-packages (from jupyter-server<3,>=1.16.0->jupyterlab) (1.8.0)\n",
      "Requirement already satisfied: terminado>=0.8.3 in c:\\users\\patri\\appdata\\local\\anaconda3\\lib\\site-packages (from jupyter-server<3,>=1.16.0->jupyterlab) (0.17.1)\n",
      "Requirement already satisfied: websocket-client in c:\\users\\patri\\appdata\\local\\anaconda3\\lib\\site-packages (from jupyter-server<3,>=1.16.0->jupyterlab) (0.58.0)\n",
      "Requirement already satisfied: pywinpty in c:\\users\\patri\\appdata\\local\\anaconda3\\lib\\site-packages (from jupyter-server<3,>=1.16.0->jupyterlab) (2.0.10)\n",
      "Requirement already satisfied: jupyter-server-fileid<1,>=0.6.0 in c:\\users\\patri\\appdata\\local\\anaconda3\\lib\\site-packages (from jupyter-server-ydoc~=0.8.0->jupyterlab) (0.9.0)\n",
      "Requirement already satisfied: ypy-websocket<0.9.0,>=0.8.2 in c:\\users\\patri\\appdata\\local\\anaconda3\\lib\\site-packages (from jupyter-server-ydoc~=0.8.0->jupyterlab) (0.8.2)\n",
      "Requirement already satisfied: y-py<0.6.0,>=0.5.3 in c:\\users\\patri\\appdata\\local\\anaconda3\\lib\\site-packages (from jupyter-ydoc~=0.2.3->jupyterlab) (0.5.9)\n",
      "Requirement already satisfied: babel>=2.10 in c:\\users\\patri\\appdata\\local\\anaconda3\\lib\\site-packages (from jupyterlab-server~=2.19->jupyterlab) (2.11.0)\n",
      "Requirement already satisfied: json5>=0.9.0 in c:\\users\\patri\\appdata\\local\\anaconda3\\lib\\site-packages (from jupyterlab-server~=2.19->jupyterlab) (0.9.6)\n",
      "Requirement already satisfied: jsonschema>=4.17.3 in c:\\users\\patri\\appdata\\local\\anaconda3\\lib\\site-packages (from jupyterlab-server~=2.19->jupyterlab) (4.17.3)\n",
      "Requirement already satisfied: requests>=2.28 in c:\\users\\patri\\appdata\\local\\anaconda3\\lib\\site-packages (from jupyterlab-server~=2.19->jupyterlab) (2.31.0)\n",
      "Requirement already satisfied: ipython-genutils in c:\\users\\patri\\appdata\\local\\anaconda3\\lib\\site-packages (from notebook<7->jupyterlab) (0.2.0)\n",
      "Requirement already satisfied: notebook-shim>=0.1.0 in c:\\users\\patri\\appdata\\local\\anaconda3\\lib\\site-packages (from nbclassic->jupyterlab) (0.2.2)\n",
      "Requirement already satisfied: idna>=2.8 in c:\\users\\patri\\appdata\\local\\anaconda3\\lib\\site-packages (from anyio<4,>=3.1.0->jupyter-server<3,>=1.16.0->jupyterlab) (3.4)\n",
      "Requirement already satisfied: sniffio>=1.1 in c:\\users\\patri\\appdata\\local\\anaconda3\\lib\\site-packages (from anyio<4,>=3.1.0->jupyter-server<3,>=1.16.0->jupyterlab) (1.2.0)\n",
      "Requirement already satisfied: pytz>=2015.7 in c:\\users\\patri\\appdata\\local\\anaconda3\\lib\\site-packages (from babel>=2.10->jupyterlab-server~=2.19->jupyterlab) (2023.3.post1)\n",
      "Requirement already satisfied: parso<0.9.0,>=0.8.0 in c:\\users\\patri\\appdata\\local\\anaconda3\\lib\\site-packages (from jedi>=0.16->ipython->jupyterlab) (0.8.3)\n",
      "Requirement already satisfied: attrs>=17.4.0 in c:\\users\\patri\\appdata\\local\\anaconda3\\lib\\site-packages (from jsonschema>=4.17.3->jupyterlab-server~=2.19->jupyterlab) (22.1.0)\n",
      "Requirement already satisfied: pyrsistent!=0.17.0,!=0.17.1,!=0.17.2,>=0.14.0 in c:\\users\\patri\\appdata\\local\\anaconda3\\lib\\site-packages (from jsonschema>=4.17.3->jupyterlab-server~=2.19->jupyterlab) (0.18.0)\n",
      "Requirement already satisfied: entrypoints in c:\\users\\patri\\appdata\\local\\anaconda3\\lib\\site-packages (from jupyter-client>=6.1.12->ipykernel>=4.5.1->ipywidgets>=7.5) (0.4)\n",
      "Requirement already satisfied: python-dateutil>=2.8.2 in c:\\users\\patri\\appdata\\local\\anaconda3\\lib\\site-packages (from jupyter-client>=6.1.12->ipykernel>=4.5.1->ipywidgets>=7.5) (2.8.2)\n",
      "Requirement already satisfied: jupyter-events>=0.5.0 in c:\\users\\patri\\appdata\\local\\anaconda3\\lib\\site-packages (from jupyter-server-fileid<1,>=0.6.0->jupyter-server-ydoc~=0.8.0->jupyterlab) (0.6.3)\n",
      "Requirement already satisfied: lxml in c:\\users\\patri\\appdata\\local\\anaconda3\\lib\\site-packages (from nbconvert>=6.4.4->jupyter-server<3,>=1.16.0->jupyterlab) (4.9.3)\n",
      "Requirement already satisfied: beautifulsoup4 in c:\\users\\patri\\appdata\\local\\anaconda3\\lib\\site-packages (from nbconvert>=6.4.4->jupyter-server<3,>=1.16.0->jupyterlab) (4.12.2)\n",
      "Requirement already satisfied: bleach in c:\\users\\patri\\appdata\\local\\anaconda3\\lib\\site-packages (from nbconvert>=6.4.4->jupyter-server<3,>=1.16.0->jupyterlab) (4.1.0)\n",
      "Requirement already satisfied: defusedxml in c:\\users\\patri\\appdata\\local\\anaconda3\\lib\\site-packages (from nbconvert>=6.4.4->jupyter-server<3,>=1.16.0->jupyterlab) (0.7.1)\n",
      "Requirement already satisfied: jupyterlab-pygments in c:\\users\\patri\\appdata\\local\\anaconda3\\lib\\site-packages (from nbconvert>=6.4.4->jupyter-server<3,>=1.16.0->jupyterlab) (0.1.2)\n",
      "Requirement already satisfied: mistune<2,>=0.8.1 in c:\\users\\patri\\appdata\\local\\anaconda3\\lib\\site-packages (from nbconvert>=6.4.4->jupyter-server<3,>=1.16.0->jupyterlab) (0.8.4)\n",
      "Requirement already satisfied: nbclient>=0.5.0 in c:\\users\\patri\\appdata\\local\\anaconda3\\lib\\site-packages (from nbconvert>=6.4.4->jupyter-server<3,>=1.16.0->jupyterlab) (0.5.13)\n",
      "Requirement already satisfied: pandocfilters>=1.4.1 in c:\\users\\patri\\appdata\\local\\anaconda3\\lib\\site-packages (from nbconvert>=6.4.4->jupyter-server<3,>=1.16.0->jupyterlab) (1.5.0)\n",
      "Requirement already satisfied: tinycss2 in c:\\users\\patri\\appdata\\local\\anaconda3\\lib\\site-packages (from nbconvert>=6.4.4->jupyter-server<3,>=1.16.0->jupyterlab) (1.2.1)\n",
      "Requirement already satisfied: fastjsonschema in c:\\users\\patri\\appdata\\local\\anaconda3\\lib\\site-packages (from nbformat>=5.2.0->jupyter-server<3,>=1.16.0->jupyterlab) (2.16.2)\n",
      "Requirement already satisfied: wcwidth in c:\\users\\patri\\appdata\\local\\anaconda3\\lib\\site-packages (from prompt-toolkit!=3.0.37,<3.1.0,>=3.0.30->ipython->jupyterlab) (0.2.5)\n",
      "Requirement already satisfied: charset-normalizer<4,>=2 in c:\\users\\patri\\appdata\\local\\anaconda3\\lib\\site-packages (from requests>=2.28->jupyterlab-server~=2.19->jupyterlab) (2.0.4)\n",
      "Requirement already satisfied: urllib3<3,>=1.21.1 in c:\\users\\patri\\appdata\\local\\anaconda3\\lib\\site-packages (from requests>=2.28->jupyterlab-server~=2.19->jupyterlab) (1.26.16)\n",
      "Requirement already satisfied: certifi>=2017.4.17 in c:\\users\\patri\\appdata\\local\\anaconda3\\lib\\site-packages (from requests>=2.28->jupyterlab-server~=2.19->jupyterlab) (2023.11.17)\n",
      "Requirement already satisfied: aiofiles<23,>=22.1.0 in c:\\users\\patri\\appdata\\local\\anaconda3\\lib\\site-packages (from ypy-websocket<0.9.0,>=0.8.2->jupyter-server-ydoc~=0.8.0->jupyterlab) (22.1.0)\n",
      "Requirement already satisfied: aiosqlite<1,>=0.17.0 in c:\\users\\patri\\appdata\\local\\anaconda3\\lib\\site-packages (from ypy-websocket<0.9.0,>=0.8.2->jupyter-server-ydoc~=0.8.0->jupyterlab) (0.18.0)\n",
      "Requirement already satisfied: argon2-cffi-bindings in c:\\users\\patri\\appdata\\local\\anaconda3\\lib\\site-packages (from argon2-cffi->jupyter-server<3,>=1.16.0->jupyterlab) (21.2.0)\n",
      "Requirement already satisfied: executing in c:\\users\\patri\\appdata\\local\\anaconda3\\lib\\site-packages (from stack-data->ipython->jupyterlab) (0.8.3)\n",
      "Requirement already satisfied: asttokens in c:\\users\\patri\\appdata\\local\\anaconda3\\lib\\site-packages (from stack-data->ipython->jupyterlab) (2.0.5)\n",
      "Requirement already satisfied: pure-eval in c:\\users\\patri\\appdata\\local\\anaconda3\\lib\\site-packages (from stack-data->ipython->jupyterlab) (0.2.2)\n",
      "Requirement already satisfied: six in c:\\users\\patri\\appdata\\local\\anaconda3\\lib\\site-packages (from websocket-client->jupyter-server<3,>=1.16.0->jupyterlab) (1.16.0)\n",
      "Requirement already satisfied: python-json-logger>=2.0.4 in c:\\users\\patri\\appdata\\local\\anaconda3\\lib\\site-packages (from jupyter-events>=0.5.0->jupyter-server-fileid<1,>=0.6.0->jupyter-server-ydoc~=0.8.0->jupyterlab) (2.0.7)\n",
      "Requirement already satisfied: pyyaml>=5.3 in c:\\users\\patri\\appdata\\local\\anaconda3\\lib\\site-packages (from jupyter-events>=0.5.0->jupyter-server-fileid<1,>=0.6.0->jupyter-server-ydoc~=0.8.0->jupyterlab) (6.0)\n",
      "Requirement already satisfied: rfc3339-validator in c:\\users\\patri\\appdata\\local\\anaconda3\\lib\\site-packages (from jupyter-events>=0.5.0->jupyter-server-fileid<1,>=0.6.0->jupyter-server-ydoc~=0.8.0->jupyterlab) (0.1.4)\n",
      "Requirement already satisfied: rfc3986-validator>=0.1.1 in c:\\users\\patri\\appdata\\local\\anaconda3\\lib\\site-packages (from jupyter-events>=0.5.0->jupyter-server-fileid<1,>=0.6.0->jupyter-server-ydoc~=0.8.0->jupyterlab) (0.1.1)\n",
      "Requirement already satisfied: cffi>=1.0.1 in c:\\users\\patri\\appdata\\local\\anaconda3\\lib\\site-packages (from argon2-cffi-bindings->argon2-cffi->jupyter-server<3,>=1.16.0->jupyterlab) (1.15.1)\n",
      "Requirement already satisfied: soupsieve>1.2 in c:\\users\\patri\\appdata\\local\\anaconda3\\lib\\site-packages (from beautifulsoup4->nbconvert>=6.4.4->jupyter-server<3,>=1.16.0->jupyterlab) (2.4)\n",
      "Requirement already satisfied: webencodings in c:\\users\\patri\\appdata\\local\\anaconda3\\lib\\site-packages (from bleach->nbconvert>=6.4.4->jupyter-server<3,>=1.16.0->jupyterlab) (0.5.1)\n",
      "Requirement already satisfied: pycparser in c:\\users\\patri\\appdata\\local\\anaconda3\\lib\\site-packages (from cffi>=1.0.1->argon2-cffi-bindings->argon2-cffi->jupyter-server<3,>=1.16.0->jupyterlab) (2.21)\n",
      "Collecting fqdn (from jsonschema>=4.17.3->jupyterlab-server~=2.19->jupyterlab)\n",
      "  Downloading fqdn-1.5.1-py3-none-any.whl (9.1 kB)\n",
      "Collecting isoduration (from jsonschema>=4.17.3->jupyterlab-server~=2.19->jupyterlab)\n",
      "  Downloading isoduration-20.11.0-py3-none-any.whl (11 kB)\n",
      "Requirement already satisfied: jsonpointer>1.13 in c:\\users\\patri\\appdata\\local\\anaconda3\\lib\\site-packages (from jsonschema>=4.17.3->jupyterlab-server~=2.19->jupyterlab) (2.1)\n",
      "Collecting uri-template (from jsonschema>=4.17.3->jupyterlab-server~=2.19->jupyterlab)\n",
      "  Obtaining dependency information for uri-template from https://files.pythonhosted.org/packages/e7/00/3fca040d7cf8a32776d3d81a00c8ee7457e00f80c649f1e4a863c8321ae9/uri_template-1.3.0-py3-none-any.whl.metadata\n",
      "  Downloading uri_template-1.3.0-py3-none-any.whl.metadata (8.8 kB)\n",
      "Collecting webcolors>=1.11 (from jsonschema>=4.17.3->jupyterlab-server~=2.19->jupyterlab)\n",
      "  Obtaining dependency information for webcolors>=1.11 from https://files.pythonhosted.org/packages/d5/e1/3e9013159b4cbb71df9bd7611cbf90dc2c621c8aeeb677fc41dad72f2261/webcolors-1.13-py3-none-any.whl.metadata\n",
      "  Downloading webcolors-1.13-py3-none-any.whl.metadata (2.6 kB)\n",
      "Requirement already satisfied: arrow>=0.15.0 in c:\\users\\patri\\appdata\\local\\anaconda3\\lib\\site-packages (from isoduration->jsonschema>=4.17.3->jupyterlab-server~=2.19->jupyterlab) (1.2.3)\n",
      "Downloading webcolors-1.13-py3-none-any.whl (14 kB)\n",
      "Downloading uri_template-1.3.0-py3-none-any.whl (11 kB)\n",
      "Installing collected packages: webcolors, uri-template, fqdn, isoduration\n",
      "Successfully installed fqdn-1.5.1 isoduration-20.11.0 uri-template-1.3.0 webcolors-1.13\n",
      "Note: you may need to restart the kernel to use updated packages.\n"
     ]
    }
   ],
   "source": [
    "pip install jupyterlab \"ipywidgets>=7.5\""
   ]
  },
  {
   "cell_type": "code",
   "execution_count": 3,
   "metadata": {},
   "outputs": [
    {
     "ename": "SyntaxError",
     "evalue": "invalid syntax (1276229209.py, line 1)",
     "output_type": "error",
     "traceback": [
      "\u001b[1;36m  Cell \u001b[1;32mIn[3], line 1\u001b[1;36m\u001b[0m\n\u001b[1;33m    jupyter labextension install jupyterlab-plotly@4.9.0\u001b[0m\n\u001b[1;37m            ^\u001b[0m\n\u001b[1;31mSyntaxError\u001b[0m\u001b[1;31m:\u001b[0m invalid syntax\n"
     ]
    }
   ],
   "source": [
    "jupyter labextension install jupyterlab-plotly@4.9.0"
   ]
  },
  {
   "cell_type": "code",
   "execution_count": 4,
   "metadata": {},
   "outputs": [
    {
     "ename": "SyntaxError",
     "evalue": "invalid syntax (3011863159.py, line 1)",
     "output_type": "error",
     "traceback": [
      "\u001b[1;36m  Cell \u001b[1;32mIn[4], line 1\u001b[1;36m\u001b[0m\n\u001b[1;33m    jupyter labextension install @jupyter-widgets/jupyterlab-manager plotlywidget@4.9.0\u001b[0m\n\u001b[1;37m            ^\u001b[0m\n\u001b[1;31mSyntaxError\u001b[0m\u001b[1;31m:\u001b[0m invalid syntax\n"
     ]
    }
   ],
   "source": [
    "jupyter labextension install @jupyter-widgets/jupyterlab-manager plotlywidget@4.9.0"
   ]
  },
  {
   "cell_type": "code",
   "execution_count": 5,
   "metadata": {},
   "outputs": [
    {
     "ename": "SyntaxError",
     "evalue": "invalid syntax (3654186813.py, line 1)",
     "output_type": "error",
     "traceback": [
      "\u001b[1;36m  Cell \u001b[1;32mIn[5], line 1\u001b[1;36m\u001b[0m\n\u001b[1;33m    jupyter labextension list\u001b[0m\n\u001b[1;37m            ^\u001b[0m\n\u001b[1;31mSyntaxError\u001b[0m\u001b[1;31m:\u001b[0m invalid syntax\n"
     ]
    }
   ],
   "source": [
    "jupyter labextension list"
   ]
  },
  {
   "cell_type": "code",
   "execution_count": 6,
   "metadata": {},
   "outputs": [
    {
     "data": {
      "application/vnd.plotly.v1+json": {
       "config": {
        "plotlyServerURL": "https://plot.ly"
       },
       "data": [
        {
         "type": "bar",
         "y": [
          2,
          3,
          1
         ]
        }
       ],
       "layout": {
        "template": {
         "data": {
          "bar": [
           {
            "error_x": {
             "color": "#2a3f5f"
            },
            "error_y": {
             "color": "#2a3f5f"
            },
            "marker": {
             "line": {
              "color": "#E5ECF6",
              "width": 0.5
             }
            },
            "type": "bar"
           }
          ],
          "barpolar": [
           {
            "marker": {
             "line": {
              "color": "#E5ECF6",
              "width": 0.5
             }
            },
            "type": "barpolar"
           }
          ],
          "carpet": [
           {
            "aaxis": {
             "endlinecolor": "#2a3f5f",
             "gridcolor": "white",
             "linecolor": "white",
             "minorgridcolor": "white",
             "startlinecolor": "#2a3f5f"
            },
            "baxis": {
             "endlinecolor": "#2a3f5f",
             "gridcolor": "white",
             "linecolor": "white",
             "minorgridcolor": "white",
             "startlinecolor": "#2a3f5f"
            },
            "type": "carpet"
           }
          ],
          "choropleth": [
           {
            "colorbar": {
             "outlinewidth": 0,
             "ticks": ""
            },
            "type": "choropleth"
           }
          ],
          "contour": [
           {
            "colorbar": {
             "outlinewidth": 0,
             "ticks": ""
            },
            "colorscale": [
             [
              0,
              "#0d0887"
             ],
             [
              0.1111111111111111,
              "#46039f"
             ],
             [
              0.2222222222222222,
              "#7201a8"
             ],
             [
              0.3333333333333333,
              "#9c179e"
             ],
             [
              0.4444444444444444,
              "#bd3786"
             ],
             [
              0.5555555555555556,
              "#d8576b"
             ],
             [
              0.6666666666666666,
              "#ed7953"
             ],
             [
              0.7777777777777778,
              "#fb9f3a"
             ],
             [
              0.8888888888888888,
              "#fdca26"
             ],
             [
              1,
              "#f0f921"
             ]
            ],
            "type": "contour"
           }
          ],
          "contourcarpet": [
           {
            "colorbar": {
             "outlinewidth": 0,
             "ticks": ""
            },
            "type": "contourcarpet"
           }
          ],
          "heatmap": [
           {
            "colorbar": {
             "outlinewidth": 0,
             "ticks": ""
            },
            "colorscale": [
             [
              0,
              "#0d0887"
             ],
             [
              0.1111111111111111,
              "#46039f"
             ],
             [
              0.2222222222222222,
              "#7201a8"
             ],
             [
              0.3333333333333333,
              "#9c179e"
             ],
             [
              0.4444444444444444,
              "#bd3786"
             ],
             [
              0.5555555555555556,
              "#d8576b"
             ],
             [
              0.6666666666666666,
              "#ed7953"
             ],
             [
              0.7777777777777778,
              "#fb9f3a"
             ],
             [
              0.8888888888888888,
              "#fdca26"
             ],
             [
              1,
              "#f0f921"
             ]
            ],
            "type": "heatmap"
           }
          ],
          "heatmapgl": [
           {
            "colorbar": {
             "outlinewidth": 0,
             "ticks": ""
            },
            "colorscale": [
             [
              0,
              "#0d0887"
             ],
             [
              0.1111111111111111,
              "#46039f"
             ],
             [
              0.2222222222222222,
              "#7201a8"
             ],
             [
              0.3333333333333333,
              "#9c179e"
             ],
             [
              0.4444444444444444,
              "#bd3786"
             ],
             [
              0.5555555555555556,
              "#d8576b"
             ],
             [
              0.6666666666666666,
              "#ed7953"
             ],
             [
              0.7777777777777778,
              "#fb9f3a"
             ],
             [
              0.8888888888888888,
              "#fdca26"
             ],
             [
              1,
              "#f0f921"
             ]
            ],
            "type": "heatmapgl"
           }
          ],
          "histogram": [
           {
            "marker": {
             "colorbar": {
              "outlinewidth": 0,
              "ticks": ""
             }
            },
            "type": "histogram"
           }
          ],
          "histogram2d": [
           {
            "colorbar": {
             "outlinewidth": 0,
             "ticks": ""
            },
            "colorscale": [
             [
              0,
              "#0d0887"
             ],
             [
              0.1111111111111111,
              "#46039f"
             ],
             [
              0.2222222222222222,
              "#7201a8"
             ],
             [
              0.3333333333333333,
              "#9c179e"
             ],
             [
              0.4444444444444444,
              "#bd3786"
             ],
             [
              0.5555555555555556,
              "#d8576b"
             ],
             [
              0.6666666666666666,
              "#ed7953"
             ],
             [
              0.7777777777777778,
              "#fb9f3a"
             ],
             [
              0.8888888888888888,
              "#fdca26"
             ],
             [
              1,
              "#f0f921"
             ]
            ],
            "type": "histogram2d"
           }
          ],
          "histogram2dcontour": [
           {
            "colorbar": {
             "outlinewidth": 0,
             "ticks": ""
            },
            "colorscale": [
             [
              0,
              "#0d0887"
             ],
             [
              0.1111111111111111,
              "#46039f"
             ],
             [
              0.2222222222222222,
              "#7201a8"
             ],
             [
              0.3333333333333333,
              "#9c179e"
             ],
             [
              0.4444444444444444,
              "#bd3786"
             ],
             [
              0.5555555555555556,
              "#d8576b"
             ],
             [
              0.6666666666666666,
              "#ed7953"
             ],
             [
              0.7777777777777778,
              "#fb9f3a"
             ],
             [
              0.8888888888888888,
              "#fdca26"
             ],
             [
              1,
              "#f0f921"
             ]
            ],
            "type": "histogram2dcontour"
           }
          ],
          "mesh3d": [
           {
            "colorbar": {
             "outlinewidth": 0,
             "ticks": ""
            },
            "type": "mesh3d"
           }
          ],
          "parcoords": [
           {
            "line": {
             "colorbar": {
              "outlinewidth": 0,
              "ticks": ""
             }
            },
            "type": "parcoords"
           }
          ],
          "pie": [
           {
            "automargin": true,
            "type": "pie"
           }
          ],
          "scatter": [
           {
            "marker": {
             "colorbar": {
              "outlinewidth": 0,
              "ticks": ""
             }
            },
            "type": "scatter"
           }
          ],
          "scatter3d": [
           {
            "line": {
             "colorbar": {
              "outlinewidth": 0,
              "ticks": ""
             }
            },
            "marker": {
             "colorbar": {
              "outlinewidth": 0,
              "ticks": ""
             }
            },
            "type": "scatter3d"
           }
          ],
          "scattercarpet": [
           {
            "marker": {
             "colorbar": {
              "outlinewidth": 0,
              "ticks": ""
             }
            },
            "type": "scattercarpet"
           }
          ],
          "scattergeo": [
           {
            "marker": {
             "colorbar": {
              "outlinewidth": 0,
              "ticks": ""
             }
            },
            "type": "scattergeo"
           }
          ],
          "scattergl": [
           {
            "marker": {
             "colorbar": {
              "outlinewidth": 0,
              "ticks": ""
             }
            },
            "type": "scattergl"
           }
          ],
          "scattermapbox": [
           {
            "marker": {
             "colorbar": {
              "outlinewidth": 0,
              "ticks": ""
             }
            },
            "type": "scattermapbox"
           }
          ],
          "scatterpolar": [
           {
            "marker": {
             "colorbar": {
              "outlinewidth": 0,
              "ticks": ""
             }
            },
            "type": "scatterpolar"
           }
          ],
          "scatterpolargl": [
           {
            "marker": {
             "colorbar": {
              "outlinewidth": 0,
              "ticks": ""
             }
            },
            "type": "scatterpolargl"
           }
          ],
          "scatterternary": [
           {
            "marker": {
             "colorbar": {
              "outlinewidth": 0,
              "ticks": ""
             }
            },
            "type": "scatterternary"
           }
          ],
          "surface": [
           {
            "colorbar": {
             "outlinewidth": 0,
             "ticks": ""
            },
            "colorscale": [
             [
              0,
              "#0d0887"
             ],
             [
              0.1111111111111111,
              "#46039f"
             ],
             [
              0.2222222222222222,
              "#7201a8"
             ],
             [
              0.3333333333333333,
              "#9c179e"
             ],
             [
              0.4444444444444444,
              "#bd3786"
             ],
             [
              0.5555555555555556,
              "#d8576b"
             ],
             [
              0.6666666666666666,
              "#ed7953"
             ],
             [
              0.7777777777777778,
              "#fb9f3a"
             ],
             [
              0.8888888888888888,
              "#fdca26"
             ],
             [
              1,
              "#f0f921"
             ]
            ],
            "type": "surface"
           }
          ],
          "table": [
           {
            "cells": {
             "fill": {
              "color": "#EBF0F8"
             },
             "line": {
              "color": "white"
             }
            },
            "header": {
             "fill": {
              "color": "#C8D4E3"
             },
             "line": {
              "color": "white"
             }
            },
            "type": "table"
           }
          ]
         },
         "layout": {
          "annotationdefaults": {
           "arrowcolor": "#2a3f5f",
           "arrowhead": 0,
           "arrowwidth": 1
          },
          "coloraxis": {
           "colorbar": {
            "outlinewidth": 0,
            "ticks": ""
           }
          },
          "colorscale": {
           "diverging": [
            [
             0,
             "#8e0152"
            ],
            [
             0.1,
             "#c51b7d"
            ],
            [
             0.2,
             "#de77ae"
            ],
            [
             0.3,
             "#f1b6da"
            ],
            [
             0.4,
             "#fde0ef"
            ],
            [
             0.5,
             "#f7f7f7"
            ],
            [
             0.6,
             "#e6f5d0"
            ],
            [
             0.7,
             "#b8e186"
            ],
            [
             0.8,
             "#7fbc41"
            ],
            [
             0.9,
             "#4d9221"
            ],
            [
             1,
             "#276419"
            ]
           ],
           "sequential": [
            [
             0,
             "#0d0887"
            ],
            [
             0.1111111111111111,
             "#46039f"
            ],
            [
             0.2222222222222222,
             "#7201a8"
            ],
            [
             0.3333333333333333,
             "#9c179e"
            ],
            [
             0.4444444444444444,
             "#bd3786"
            ],
            [
             0.5555555555555556,
             "#d8576b"
            ],
            [
             0.6666666666666666,
             "#ed7953"
            ],
            [
             0.7777777777777778,
             "#fb9f3a"
            ],
            [
             0.8888888888888888,
             "#fdca26"
            ],
            [
             1,
             "#f0f921"
            ]
           ],
           "sequentialminus": [
            [
             0,
             "#0d0887"
            ],
            [
             0.1111111111111111,
             "#46039f"
            ],
            [
             0.2222222222222222,
             "#7201a8"
            ],
            [
             0.3333333333333333,
             "#9c179e"
            ],
            [
             0.4444444444444444,
             "#bd3786"
            ],
            [
             0.5555555555555556,
             "#d8576b"
            ],
            [
             0.6666666666666666,
             "#ed7953"
            ],
            [
             0.7777777777777778,
             "#fb9f3a"
            ],
            [
             0.8888888888888888,
             "#fdca26"
            ],
            [
             1,
             "#f0f921"
            ]
           ]
          },
          "colorway": [
           "#636efa",
           "#EF553B",
           "#00cc96",
           "#ab63fa",
           "#FFA15A",
           "#19d3f3",
           "#FF6692",
           "#B6E880",
           "#FF97FF",
           "#FECB52"
          ],
          "font": {
           "color": "#2a3f5f"
          },
          "geo": {
           "bgcolor": "white",
           "lakecolor": "white",
           "landcolor": "#E5ECF6",
           "showlakes": true,
           "showland": true,
           "subunitcolor": "white"
          },
          "hoverlabel": {
           "align": "left"
          },
          "hovermode": "closest",
          "mapbox": {
           "style": "light"
          },
          "paper_bgcolor": "white",
          "plot_bgcolor": "#E5ECF6",
          "polar": {
           "angularaxis": {
            "gridcolor": "white",
            "linecolor": "white",
            "ticks": ""
           },
           "bgcolor": "#E5ECF6",
           "radialaxis": {
            "gridcolor": "white",
            "linecolor": "white",
            "ticks": ""
           }
          },
          "scene": {
           "xaxis": {
            "backgroundcolor": "#E5ECF6",
            "gridcolor": "white",
            "gridwidth": 2,
            "linecolor": "white",
            "showbackground": true,
            "ticks": "",
            "zerolinecolor": "white"
           },
           "yaxis": {
            "backgroundcolor": "#E5ECF6",
            "gridcolor": "white",
            "gridwidth": 2,
            "linecolor": "white",
            "showbackground": true,
            "ticks": "",
            "zerolinecolor": "white"
           },
           "zaxis": {
            "backgroundcolor": "#E5ECF6",
            "gridcolor": "white",
            "gridwidth": 2,
            "linecolor": "white",
            "showbackground": true,
            "ticks": "",
            "zerolinecolor": "white"
           }
          },
          "shapedefaults": {
           "line": {
            "color": "#2a3f5f"
           }
          },
          "ternary": {
           "aaxis": {
            "gridcolor": "white",
            "linecolor": "white",
            "ticks": ""
           },
           "baxis": {
            "gridcolor": "white",
            "linecolor": "white",
            "ticks": ""
           },
           "bgcolor": "#E5ECF6",
           "caxis": {
            "gridcolor": "white",
            "linecolor": "white",
            "ticks": ""
           }
          },
          "title": {
           "x": 0.05
          },
          "xaxis": {
           "automargin": true,
           "gridcolor": "white",
           "linecolor": "white",
           "ticks": "",
           "title": {
            "standoff": 15
           },
           "zerolinecolor": "white",
           "zerolinewidth": 2
          },
          "yaxis": {
           "automargin": true,
           "gridcolor": "white",
           "linecolor": "white",
           "ticks": "",
           "title": {
            "standoff": 15
           },
           "zerolinecolor": "white",
           "zerolinewidth": 2
          }
         }
        }
       }
      }
     },
     "metadata": {},
     "output_type": "display_data"
    }
   ],
   "source": [
    "import plotly.graph_objects as go\n",
    "fig = go.Figure(data=go.Bar(y=[2, 3, 1]))\n",
    "fig.show()"
   ]
  },
  {
   "cell_type": "code",
   "execution_count": 7,
   "metadata": {},
   "outputs": [
    {
     "data": {
      "text/html": [
       "<iframe\n",
       "    scrolling=\"no\"\n",
       "    width=\"100%\"\n",
       "    height=\"545px\"\n",
       "    src=\"iframe_figures/figure_7.html\"\n",
       "    frameborder=\"0\"\n",
       "    allowfullscreen\n",
       "></iframe>\n"
      ]
     },
     "metadata": {},
     "output_type": "display_data"
    }
   ],
   "source": [
    "import plotly.graph_objects as go\n",
    "\n",
    "fig = go.Figure(data=go.Bar(y=[2, 3, 1]))\n",
    "\n",
    "fig.show(renderer=\"iframe\")"
   ]
  }
 ],
 "metadata": {
  "kernelspec": {
   "display_name": "base",
   "language": "python",
   "name": "python3"
  },
  "language_info": {
   "codemirror_mode": {
    "name": "ipython",
    "version": 3
   },
   "file_extension": ".py",
   "mimetype": "text/x-python",
   "name": "python",
   "nbconvert_exporter": "python",
   "pygments_lexer": "ipython3",
   "version": "3.11.5"
  }
 },
 "nbformat": 4,
 "nbformat_minor": 2
}
